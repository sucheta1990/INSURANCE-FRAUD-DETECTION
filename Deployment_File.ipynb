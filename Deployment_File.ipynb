{
 "cells": [
  {
   "cell_type": "code",
   "execution_count": 1,
   "id": "b8768f2b",
   "metadata": {},
   "outputs": [],
   "source": [
    "import pandas as pd\n",
    "import streamlit as st\n",
    "from sklearn.ensemble import RandomForestClassifier\n",
    "from pickle import dump\n",
    "from pickle import load\n",
    "import pickle"
   ]
  },
  {
   "cell_type": "code",
   "execution_count": 2,
   "id": "223a449e",
   "metadata": {},
   "outputs": [],
   "source": [
    "import warnings\n",
    "warnings.filterwarnings('ignore')"
   ]
  },
  {
   "cell_type": "code",
   "execution_count": 3,
   "id": "5409617b",
   "metadata": {},
   "outputs": [
    {
     "name": "stderr",
     "output_type": "stream",
     "text": [
      "2022-05-09 09:31:11.534 \n",
      "  \u001b[33m\u001b[1mWarning:\u001b[0m to view this Streamlit app on a browser, run it with the following\n",
      "  command:\n",
      "\n",
      "    streamlit run C:\\Users\\Hp\\anaconda3\\lib\\site-packages\\ipykernel_launcher.py [ARGUMENTS]\n"
     ]
    },
    {
     "data": {
      "text/plain": [
       "DeltaGenerator(_root_container=1, _provided_cursor=None, _parent=DeltaGenerator(_root_container=0, _provided_cursor=None, _parent=None, _block_type=None, _form_data=None), _block_type=None, _form_data=None)"
      ]
     },
     "execution_count": 3,
     "metadata": {},
     "output_type": "execute_result"
    }
   ],
   "source": [
    "st.title('FRAUD DETECTION OF HOSPITAL DATA')\n",
    "st.sidebar.header('User Input Parameters')"
   ]
  },
  {
   "cell_type": "code",
   "execution_count": 4,
   "id": "59b748fb",
   "metadata": {},
   "outputs": [
    {
     "data": {
      "text/plain": [
       "DeltaGenerator(_root_container=0, _provided_cursor=None, _parent=None, _block_type=None, _form_data=None)"
      ]
     },
     "execution_count": 4,
     "metadata": {},
     "output_type": "execute_result"
    }
   ],
   "source": [
    "st.subheader(\"MODEL DEPLOYMENT: RANDOM FOREST CLASSIFIER\")"
   ]
  },
  {
   "cell_type": "code",
   "execution_count": 37,
   "id": "3cca754c",
   "metadata": {},
   "outputs": [
    {
     "data": {
      "text/plain": [
       "DeltaGenerator(_root_container=0, _provided_cursor=None, _parent=None, _block_type=None, _form_data=None)"
      ]
     },
     "execution_count": 37,
     "metadata": {},
     "output_type": "execute_result"
    }
   ],
   "source": [
    "st.image('fraud_detection.JPG',width=8)\n"
   ]
  },
  {
   "cell_type": "code",
   "execution_count": 6,
   "id": "baf8818d",
   "metadata": {},
   "outputs": [],
   "source": [
    "loaded_model=pickle.load(open('f_test_data.save','rb'))"
   ]
  },
  {
   "cell_type": "code",
   "execution_count": 7,
   "id": "f3a08e2f",
   "metadata": {},
   "outputs": [],
   "source": [
    "def Fraud_prediction(input_data):\n",
    "    input_data_as_numpy_array=np.asarray(input_data)\n",
    "    input_data_reshaped=input_data_as_numpy_array.reshape(1,-1)\n",
    "    prediction=loaded_model.predict(input_data_reshaped)\n",
    "    print(prediction)\n",
    "    \n",
    "    if(prediction[0]==0):\n",
    "        return'The calim is fraud'\n",
    "    else:\n",
    "        return 'The calim is genuinine'\n"
   ]
  },
  {
   "cell_type": "code",
   "execution_count": 8,
   "id": "e11610f9",
   "metadata": {},
   "outputs": [],
   "source": [
    "def user_input_features():\n",
    "    Area_Service=st.sidebar.selectbox('Area_Service',('1','2','3','4','5', '6','7'))\n",
    "    Age = st.sidebar.number_input ('Enter age')\n",
    "    Gender=st.sidebar.selectbox('Gender-- Male=0,Female=1,Unknown=2',('0','1','2'))\n",
    "    Cultural_group=st.sidebar.selectbox('Cultural_group- White=1,Black/AfricanAmerican=2,Other Race=3,unknown=4',('1','2','3','4'))\n",
    "    ethinicity=st.sidebar.selectbox('ethnicity--Not Span/Hispanic=1,Spanish/Hispanic=2,unknown=3',('1 ','2','3'))\n",
    "    Days_spend_hsptl=st.sidebar.number_input(\"enter number of days spend in hospital\")\n",
    "    Admission_type=st.sidebar.selectbox('Admission_type--Emergency=1,Elective=2,Urgent=3,Newborn=4,Trauma=5,Not Available=6',('1','2','3','4','5','6'))\n",
    "    home_self_care=st.sidebar.selectbox('home_self_care',('1','2','3','4','5','6'))\n",
    "    ccs_diagnosis_code=st.sidebar.number_input(\"enter the diagnosis_code\")\n",
    "    ccs_procedure_code=st.sidebar.number_input(\"enter the procedure_code\")\n",
    "    Code_illness=st.sidebar.selectbox('Code_illness',('0','1','2','3','4'))\n",
    "    Mortality_risk=st.sidebar.selectbox('Mortality_risk',('1','2','3'))\n",
    "    Surg_Description=st.sidebar.selectbox('Surg_Description--Medical=1,Surgical=2,Non=applicabel=3',('1','2','3'))\n",
    "    Weight_baby=st.sidebar.number_input(\"enter the weight of the baby\")\n",
    "    Abortion=st.sidebar.selectbox('Abortion',(\"1\",\"0\"))\n",
    "    emergency_dept_yes = st.sidebar.selectbox('emergency_dept_yes/no--Yes=1,No=0',('1','0'))\n",
    "    Tot_charg=st.sidebar.number_input(\"enter the charge\")\n",
    "    Tot_cost=st.sidebar.number_input('enter the cost')\n",
    "    ratio_of_total_costs_to_total_charges=st.slider('Slide me',min_value=0.1,max_value=0.95)\n",
    "    Payment_Typology=st.sidebar.number_input(\"enter the Payment_Typology\")\n",
    "    Fraud_prediction={'Area_Service':Area_Service,\n",
    "           'Age':Age,\n",
    "           'Gender':Gender,\n",
    "           'Cultural_group':Cultural_group,\n",
    "           'ethinicity':ethinicity,\n",
    "           'Days_spend_hsptl':Days_spend_hsptl,\n",
    "           'Admission_type':Admission_type,\n",
    "           'home_self_care':home_self_care,\n",
    "           'ccs_diagnosis_code':ccs_diagnosis_code,\n",
    "           'ccs_procedure_code':ccs_procedure_code,\n",
    "           'Code_illness':Code_illness,\n",
    "           'Mortality_risk':Mortality_risk,\n",
    "           'Surg_Description':Surg_Description,\n",
    "           'Weight_baby':Weight_baby,\n",
    "           'Abortion':Abortion,\n",
    "           'emergency_dept_yes':emergency_dept_yes,\n",
    "           'Tot_charg':Tot_charg,\n",
    "           'Tot_cost':Tot_cost,\n",
    "           'ratio_of_total_costs_to_total_charges':ratio_of_total_costs_to_total_charges,\n",
    "           'Payment_Typology':Payment_Typology}\n",
    "    features = pd.DataFrame(Fraud_prediction,index = [0])\n",
    "    return features\n",
    "\n",
    "        \n",
    "        \n",
    "df = user_input_features()\n",
    "st.subheader('User Input parameters')\n",
    "st.write(df)\n",
    "\n",
    "\n",
    "\n",
    "\n",
    "\n",
    "\n"
   ]
  },
  {
   "cell_type": "code",
   "execution_count": 9,
   "id": "dfb85471",
   "metadata": {},
   "outputs": [],
   "source": [
    "#st.subheader('Input parameters')\n",
    "#dfa=pd.read_csv('deploy1.csv')\n",
    "#st.write(dfa)"
   ]
  },
  {
   "cell_type": "code",
   "execution_count": 10,
   "id": "05d026d8",
   "metadata": {},
   "outputs": [
    {
     "data": {
      "text/plain": [
       "RandomForestClassifier(n_estimators=30, random_state=30)"
      ]
     },
     "execution_count": 10,
     "metadata": {},
     "output_type": "execute_result"
    }
   ],
   "source": [
    "import pickle\n",
    "loaded_model=pickle.load(open('f_test_data.save','rb'))\n",
    "loaded_model"
   ]
  },
  {
   "cell_type": "code",
   "execution_count": 11,
   "id": "42477910",
   "metadata": {},
   "outputs": [],
   "source": [
    "f_data1=pd.read_csv('final_data.csv')"
   ]
  },
  {
   "cell_type": "code",
   "execution_count": 12,
   "id": "561476ee",
   "metadata": {},
   "outputs": [],
   "source": [
    "prediction = loaded_model.predict(df)\n",
    "prediction_proba = loaded_model.predict_proba(df)"
   ]
  },
  {
   "cell_type": "code",
   "execution_count": 34,
   "id": "0678bc0c",
   "metadata": {},
   "outputs": [
    {
     "data": {
      "text/html": [
       "<div>\n",
       "<style scoped>\n",
       "    .dataframe tbody tr th:only-of-type {\n",
       "        vertical-align: middle;\n",
       "    }\n",
       "\n",
       "    .dataframe tbody tr th {\n",
       "        vertical-align: top;\n",
       "    }\n",
       "\n",
       "    .dataframe thead th {\n",
       "        text-align: right;\n",
       "    }\n",
       "</style>\n",
       "<table border=\"1\" class=\"dataframe\">\n",
       "  <thead>\n",
       "    <tr style=\"text-align: right;\">\n",
       "      <th></th>\n",
       "      <th>0</th>\n",
       "      <th>1</th>\n",
       "    </tr>\n",
       "  </thead>\n",
       "  <tbody>\n",
       "    <tr>\n",
       "      <th>0</th>\n",
       "      <td>0.3</td>\n",
       "      <td>0.7</td>\n",
       "    </tr>\n",
       "  </tbody>\n",
       "</table>\n",
       "</div>"
      ],
      "text/plain": [
       "     0    1\n",
       "0  0.3  0.7"
      ]
     },
     "execution_count": 34,
     "metadata": {},
     "output_type": "execute_result"
    }
   ],
   "source": [
    "prediction_proba"
   ]
  },
  {
   "cell_type": "code",
   "execution_count": 35,
   "id": "d4464f6b",
   "metadata": {},
   "outputs": [],
   "source": [
    "st.subheader('Prediction Probability')\n",
    "prediction_proba=pd.DataFrame(prediction_proba)\n",
    "b=[0]\n",
    "a= prediction_proba.iloc[:,0]\n",
    "if (a>0.5).any():\n",
    "  a='Claim id geunine'\n",
    "  #print('Claim is geunine')\n",
    "else:\n",
    "   b='Claim is fraud'\n",
    "  # print('claim is fraud')\n",
    "\n",
    "st.write(prediction_proba)\n",
    "st.write(b)\n",
    "st.write(a)\n"
   ]
  },
  {
   "cell_type": "code",
   "execution_count": 36,
   "id": "6e0dd05f",
   "metadata": {},
   "outputs": [],
   "source": [
    "output=pd.concat([df,prediction_proba],axis=1)"
   ]
  },
  {
   "cell_type": "code",
   "execution_count": 16,
   "id": "065b89c2",
   "metadata": {},
   "outputs": [],
   "source": [
    "#output"
   ]
  },
  {
   "cell_type": "code",
   "execution_count": null,
   "id": "fd310947",
   "metadata": {},
   "outputs": [],
   "source": []
  }
 ],
 "metadata": {
  "kernelspec": {
   "display_name": "Python 3",
   "language": "python",
   "name": "python3"
  },
  "language_info": {
   "codemirror_mode": {
    "name": "ipython",
    "version": 3
   },
   "file_extension": ".py",
   "mimetype": "text/x-python",
   "name": "python",
   "nbconvert_exporter": "python",
   "pygments_lexer": "ipython3",
   "version": "3.8.8"
  }
 },
 "nbformat": 4,
 "nbformat_minor": 5
}
